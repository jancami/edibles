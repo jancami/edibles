{
 "cells": [
  {
   "cell_type": "code",
   "execution_count": 1,
   "id": "6cc3650f",
   "metadata": {},
   "outputs": [],
   "source": [
    "#importing necessary libraries\n",
    "\n",
    "import numpy as np\n",
    "import matplotlib.pyplot as plt\n",
    "from lmfit.models import VoigtModel"
   ]
  },
  {
   "cell_type": "code",
   "execution_count": 2,
   "id": "72eecd64",
   "metadata": {},
   "outputs": [],
   "source": [
    "#fits voigt profile to individual peaks given the standard deviation (noise) in the data\n",
    "\n",
    "def voigtUniPeak(peakData1, sd1):\n",
    "    yForFit1 = 1 - peakData1[:, 1]\n",
    "    xForFit1 = peakData1[:, 0]\n",
    "    mod1 = VoigtModel()\n",
    "    params1 = mod1.guess(yForFit1, x = xForFit1)\n",
    "    res1 = mod1.fit(yForFit1, params1, x = xForFit1, weights = 1/sd1)\n",
    "    plt.plot(xForFit1, (1 - yForFit1), label = 'Data')\n",
    "    plt.plot(xForFit1, (1 - res1.best_fit), label = 'Voigt profile fit')\n",
    "    plt.legend()\n",
    "    return {'Centre': res1.params['center'].value, \n",
    "            'FWHM': res1.params['fwhm'].value, \n",
    "            'ChiSq': res1.chisqr, \n",
    "            'RedChiSq': res1.redchi}"
   ]
  },
  {
   "cell_type": "code",
   "execution_count": 3,
   "id": "8799c4c1",
   "metadata": {},
   "outputs": [],
   "source": [
    "#importing data\n",
    "\n",
    "#data5000 = np.loadtxt('Pentacene_air_snr5000.txt')"
   ]
  },
  {
   "cell_type": "code",
   "execution_count": 4,
   "id": "2653ff12",
   "metadata": {},
   "outputs": [
    {
     "data": {
      "text/plain": [
       "'\\npeakmins = np.zeros(5)\\npeakmaxs = np.zeros(5)\\npeakcens = np.zeros(5)\\n\\npeakmins[0] = 5264.222303\\npeakmaxs[0] = 5270.360895\\npeakcens[0] = 5267.600206\\n\\npeakmins[1] = 5287.032308\\npeakmaxs[1] = 5290.810678\\npeakcens[1] = 5288.886049\\n\\npeakmins[2] = 5303.716283\\npeakmaxs[2] = 5308.335695\\npeakcens[2] = 5305.721707\\n\\npeakmins[3] = 5335.136806\\npeakmaxs[3] = 5342.695359\\npeakcens[3] = 5337.921532\\n\\npeakmins[4] = 5358.495471\\npeakmaxs[4] = 5365.142247\\npeakcens[4] = 5361.090278\\n'"
      ]
     },
     "execution_count": 4,
     "metadata": {},
     "output_type": "execute_result"
    }
   ],
   "source": [
    "#peak parameters found by hand (required only for testing purposes)\n",
    "\n",
    "\"\"\"\n",
    "peakmins = np.zeros(5)\n",
    "peakmaxs = np.zeros(5)\n",
    "peakcens = np.zeros(5)\n",
    "\n",
    "peakmins[0] = 5264.222303\n",
    "peakmaxs[0] = 5270.360895\n",
    "peakcens[0] = 5267.600206\n",
    "\n",
    "peakmins[1] = 5287.032308\n",
    "peakmaxs[1] = 5290.810678\n",
    "peakcens[1] = 5288.886049\n",
    "\n",
    "peakmins[2] = 5303.716283\n",
    "peakmaxs[2] = 5308.335695\n",
    "peakcens[2] = 5305.721707\n",
    "\n",
    "peakmins[3] = 5335.136806\n",
    "peakmaxs[3] = 5342.695359\n",
    "peakcens[3] = 5337.921532\n",
    "\n",
    "peakmins[4] = 5358.495471\n",
    "peakmaxs[4] = 5365.142247\n",
    "peakcens[4] = 5361.090278\n",
    "\"\"\""
   ]
  },
  {
   "cell_type": "code",
   "execution_count": 5,
   "id": "b0e82d3c",
   "metadata": {},
   "outputs": [
    {
     "data": {
      "text/plain": [
       "'\\npeak1data = data5000[np.logical_and(data5000[:, 0]>=peakmins[0], data5000[:, 0]<=peakmaxs[0])]\\npeak2data = data5000[np.logical_and(data5000[:, 0]>=peakmins[1], data5000[:, 0]<=peakmaxs[1])]\\npeak3data = data5000[np.logical_and(data5000[:, 0]>=peakmins[2], data5000[:, 0]<=peakmaxs[2])]\\npeak4data = data5000[np.logical_and(data5000[:, 0]>=peakmins[3], data5000[:, 0]<=peakmaxs[3])]\\npeak5data = data5000[np.logical_and(data5000[:, 0]>=peakmins[4], data5000[:, 0]<=peakmaxs[4])]\\n'"
      ]
     },
     "execution_count": 5,
     "metadata": {},
     "output_type": "execute_result"
    }
   ],
   "source": [
    "#extracting wavelengths and intensities within ranges from lab data\n",
    "\n",
    "\"\"\"\n",
    "peak1data = data5000[np.logical_and(data5000[:, 0]>=peakmins[0], data5000[:, 0]<=peakmaxs[0])]\n",
    "peak2data = data5000[np.logical_and(data5000[:, 0]>=peakmins[1], data5000[:, 0]<=peakmaxs[1])]\n",
    "peak3data = data5000[np.logical_and(data5000[:, 0]>=peakmins[2], data5000[:, 0]<=peakmaxs[2])]\n",
    "peak4data = data5000[np.logical_and(data5000[:, 0]>=peakmins[3], data5000[:, 0]<=peakmaxs[3])]\n",
    "peak5data = data5000[np.logical_and(data5000[:, 0]>=peakmins[4], data5000[:, 0]<=peakmaxs[4])]\n",
    "\"\"\""
   ]
  },
  {
   "cell_type": "code",
   "execution_count": 6,
   "id": "3bc128ce",
   "metadata": {},
   "outputs": [],
   "source": [
    "#peak1Params = voigtUniPeak(peak1data, 0.0002402523653397399)\n",
    "#print(peak1Params)"
   ]
  },
  {
   "cell_type": "code",
   "execution_count": 7,
   "id": "9987bc53",
   "metadata": {},
   "outputs": [],
   "source": [
    "#print(np.linspace(0, data5000[:, 0].size, 6, dtype = int))\n",
    "#for i in range(6): print(i)\n",
    "#print(data5000[0:7759, 0].size)"
   ]
  },
  {
   "cell_type": "code",
   "execution_count": 8,
   "id": "aceb0e53",
   "metadata": {},
   "outputs": [],
   "source": [
    "#fits multiple peaks given the number of peaks and the standard deviation (noise) in the data\n",
    "\n",
    "def voigtMultiPeakNG(peakData2, nosPeak1, sd2):\n",
    "    if (not isinstance(nosPeak1, int)) or nosPeak1 < 1:\n",
    "        print('Please enter valid number of peaks (>=1)')\n",
    "    else:\n",
    "        xForFit2 = peakData2[:, 0]\n",
    "        yForFit2 = 1 - peakData2[:, 1]\n",
    "        \n",
    "        idxs1 = np.linspace(0, peakData2[:, 0].size, (nosPeak1+1), dtype = int)\n",
    "        #print(idxs1)\n",
    "        \n",
    "        vmarr1 = np.empty(shape = nosPeak1, dtype = object)\n",
    "        \n",
    "        vmarr1[0] = VoigtModel(prefix = 'VM1_')\n",
    "        params2 = vmarr1[0].guess(yForFit2[idxs1[0]:idxs1[1]], x = xForFit2[idxs1[0]:idxs1[1]])\n",
    "        \n",
    "        if nosPeak1 > 1:\n",
    "            for it1 in range(nosPeak1-1):\n",
    "                pref1 = 'VM' + str(it1+2) + '_'\n",
    "                vmarr1[it1+1] = VoigtModel(prefix = pref1)\n",
    "                params2.update(vmarr1[it1+1].guess(yForFit2[idxs1[it1+1]:idxs1[it1+2]], x = xForFit2[idxs1[it1+1]:idxs1[it1+2]]))\n",
    "            \n",
    "            mod2 = np.sum(vmarr1)\n",
    "        else:\n",
    "            mod2 = vmarr1[0]\n",
    "        \n",
    "        res2 = mod2.fit(yForFit2, params2, x = xForFit2, weights = 1/sd2)\n",
    "        plt.plot(xForFit2, (1 - yForFit2), label = 'Data')\n",
    "        plt.plot(xForFit2, (1 - res2.best_fit), label = 'Multipeak Voigt profile fit')\n",
    "        plt.legend()\n",
    "        \n",
    "        tbr1 = {}\n",
    "        \n",
    "        for it2 in range(nosPeak1):\n",
    "            cenkey1 = 'Centre' + str(it2+1)\n",
    "            cenval1 = 'VM' + str(it2+1) + '_center'\n",
    "            fwhmkey1 = 'FWHM' + str(it2+1)\n",
    "            fwhmval1 = 'VM' + str(it2+1) + '_fwhm'\n",
    "            tbr1.update({cenkey1: res2.params[cenval1].value})\n",
    "            tbr1.update({fwhmkey1: res2.params[fwhmval1].value})\n",
    "        \n",
    "        tbr1.update({'ChiSq': res2.chisqr})\n",
    "        tbr1.update({'RedChiSq': res2.redchi})\n",
    "        \n",
    "        return tbr1"
   ]
  },
  {
   "cell_type": "code",
   "execution_count": 9,
   "id": "1ac6a5b5",
   "metadata": {
    "lines_to_next_cell": 0
   },
   "outputs": [],
   "source": [
    "#allPeakParams = voigtMultiPeakNG(data5000, 5, 0.0002402523653397399)\n",
    "#print(allPeakParams)"
   ]
  },
  {
   "cell_type": "code",
   "execution_count": null,
   "id": "32ed296a",
   "metadata": {
    "lines_to_next_cell": 2
   },
   "outputs": [],
   "source": []
  }
 ],
 "metadata": {
  "jupytext": {
   "formats": "ipynb,py"
  },
  "kernelspec": {
   "display_name": "Python 3 (ipykernel)",
   "language": "python",
   "name": "python3"
  },
  "language_info": {
   "codemirror_mode": {
    "name": "ipython",
    "version": 3
   },
   "file_extension": ".py",
   "mimetype": "text/x-python",
   "name": "python",
   "nbconvert_exporter": "python",
   "pygments_lexer": "ipython3",
   "version": "3.10.4"
  }
 },
 "nbformat": 4,
 "nbformat_minor": 5
}
