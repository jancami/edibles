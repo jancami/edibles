{
 "cells": [
  {
   "cell_type": "code",
   "execution_count": 4,
   "id": "11e37aba",
   "metadata": {},
   "outputs": [],
   "source": [
    "import numpy as np\n",
    "import matplotlib.pyplot as plt\n",
    "from lmfit.models import VoigtModel\n",
    "import copy"
   ]
  },
  {
   "cell_type": "code",
   "execution_count": 5,
   "id": "293f973a",
   "metadata": {},
   "outputs": [],
   "source": [
    "data5000 = np.loadtxt('Pentacene_air_snr5000.txt')\n",
    "\n",
    "peakmins = np.zeros(5)\n",
    "peakmaxs = np.zeros(5)\n",
    "peakcens = np.zeros(5)\n",
    "\n",
    "peakmins[0] = 5264.222303\n",
    "peakmaxs[0] = 5270.360895\n",
    "peakcens[0] = 5267.600206\n",
    "\n",
    "peakmins[1] = 5287.032308\n",
    "peakmaxs[1] = 5290.810678\n",
    "peakcens[1] = 5288.886049\n",
    "\n",
    "peakmins[2] = 5303.716283\n",
    "peakmaxs[2] = 5308.335695\n",
    "peakcens[2] = 5305.721707\n",
    "\n",
    "peakmins[3] = 5335.136806\n",
    "peakmaxs[3] = 5342.695359\n",
    "peakcens[3] = 5337.921532\n",
    "\n",
    "peakmins[4] = 5358.495471\n",
    "peakmaxs[4] = 5365.142247\n",
    "peakcens[4] = 5361.090278\n",
    "\n",
    "peak1data = data5000[np.logical_and(data5000[:, 0]>=peakmins[0], data5000[:, 0]<=peakmaxs[0])]\n",
    "peak2data = data5000[np.logical_and(data5000[:, 0]>=peakmins[1], data5000[:, 0]<=peakmaxs[1])]\n",
    "peak3data = data5000[np.logical_and(data5000[:, 0]>=peakmins[2], data5000[:, 0]<=peakmaxs[2])]\n",
    "peak4data = data5000[np.logical_and(data5000[:, 0]>=peakmins[3], data5000[:, 0]<=peakmaxs[3])]\n",
    "peak5data = data5000[np.logical_and(data5000[:, 0]>=peakmins[4], data5000[:, 0]<=peakmaxs[4])]"
   ]
  },
  {
   "cell_type": "code",
   "execution_count": 62,
   "id": "b4f655d3",
   "metadata": {},
   "outputs": [],
   "source": [
    "yForFit1 = -(0 - peak4data[:, 1])\n",
    "    \n",
    "xForFit1 = copy.deepcopy(peak4data[:, 0])"
   ]
  },
  {
   "cell_type": "code",
   "execution_count": 63,
   "id": "051b1359",
   "metadata": {},
   "outputs": [],
   "source": [
    "mod1 = VoigtModel()\n",
    "params1 = mod1.guess(yForFit1, x = xForFit1)"
   ]
  },
  {
   "cell_type": "code",
   "execution_count": 64,
   "id": "616da42c",
   "metadata": {},
   "outputs": [
    {
     "name": "stdout",
     "output_type": "stream",
     "text": [
      "Name          Value      Min      Max   Stderr     Vary     Expr Brute_Step\n",
      "amplitude    0.1721     -inf      inf     None     True     None     None\n",
      "center         5339     -inf      inf     None     True     None     None\n",
      "fwhm          8.847     -inf      inf     None    False 1.0692*gamma+sqrt(0.8664*gamma**2+5.545083*sigma**2)     None\n",
      "gamma         2.457     -inf      inf     None    False    sigma     None\n",
      "height      0.01462     -inf      inf     None    False (amplitude/(max(1e-15, sigma*sqrt(2*pi))))*wofz((1j*gamma)/(max(1e-15, sigma*sqrt(2)))).real     None\n",
      "sigma         2.457        0      inf     None     True     None     None\n"
     ]
    }
   ],
   "source": [
    "params1.pretty_print()"
   ]
  },
  {
   "cell_type": "code",
   "execution_count": 18,
   "id": "f557555b",
   "metadata": {},
   "outputs": [
    {
     "name": "stdout",
     "output_type": "stream",
     "text": [
      "Name          Value      Min      Max   Stderr     Vary     Expr Brute_Step\n",
      "amplitude    0.0248     -inf      inf     None     True     None     None\n",
      "center         5267     -inf      inf     None    False     None     None\n",
      "fwhm          4.547     -inf      inf     None    False 1.0692*gamma+sqrt(0.8664*gamma**2+5.545083*sigma**2)     None\n",
      "gamma         1.263     -inf      inf     None    False    sigma     None\n",
      "height     0.004099     -inf      inf     None    False (amplitude/(max(1e-15, sigma*sqrt(2*pi))))*wofz((1j*gamma)/(max(1e-15, sigma*sqrt(2)))).real     None\n",
      "sigma         1.263        0      inf     None     True     None     None\n"
     ]
    }
   ],
   "source": [
    "params1['center'].set(value = None, vary = False)\n",
    "params1.pretty_print()"
   ]
  },
  {
   "cell_type": "code",
   "execution_count": 65,
   "id": "0f3e78f8",
   "metadata": {},
   "outputs": [],
   "source": [
    "res1 = mod1.fit(yForFit1, params1, x = xForFit1)"
   ]
  },
  {
   "cell_type": "code",
   "execution_count": 66,
   "id": "ae7a3425",
   "metadata": {},
   "outputs": [
    {
     "name": "stdout",
     "output_type": "stream",
     "text": [
      "Name          Value      Min      Max   Stderr     Vary     Expr Brute_Step\n",
      "amplitude  3.086e+04     -inf      inf 4.232e+07     True     None     None\n",
      "center     1.091e+04     -inf      inf 5.691e+06     True     None     None\n",
      "fwhm           9882     -inf      inf 1.606e+06    False 1.0692*gamma+sqrt(0.8664*gamma**2+5.545083*sigma**2)     None\n",
      "gamma          2744     -inf      inf 7.335e+05    False    sigma     None\n",
      "height        2.347     -inf      inf     2921    False (amplitude/(max(1e-15, sigma*sqrt(2*pi))))*wofz((1j*gamma)/(max(1e-15, sigma*sqrt(2)))).real     None\n",
      "sigma          2744        0      inf 7.335e+05     True     None     None\n"
     ]
    },
    {
     "data": {
      "text/plain": [
       "<matplotlib.legend.Legend at 0x21de5ae9b70>"
      ]
     },
     "execution_count": 66,
     "metadata": {},
     "output_type": "execute_result"
    },
    {
     "data": {
      "image/png": "[encoded data removed]",
      "text/plain": [
       "<Figure size 432x288 with 1 Axes>"
      ]
     },
     "metadata": {
      "needs_background": "light"
     },
     "output_type": "display_data"
    }
   ],
   "source": [
    "res1.params.pretty_print()\n",
    "plt.plot(xForFit1, -(0 - yForFit1), label = 'Data')\n",
    "plt.plot(xForFit1, -(0 - res1.best_fit), label = 'Voigt profile fit')\n",
    "plt.legend()"
   ]
  },
  {
   "cell_type": "code",
   "execution_count": 29,
   "id": "c0883863",
   "metadata": {},
   "outputs": [],
   "source": [
    "arr1 = np.zeros(3)"
   ]
  },
  {
   "cell_type": "code",
   "execution_count": 30,
   "id": "1918cf60",
   "metadata": {},
   "outputs": [],
   "source": [
    "arr1[1] = 3"
   ]
  },
  {
   "cell_type": "code",
   "execution_count": 31,
   "id": "8ea897d5",
   "metadata": {},
   "outputs": [
    {
     "name": "stdout",
     "output_type": "stream",
     "text": [
      "[0. 3. 0.]\n"
     ]
    }
   ],
   "source": [
    "print(arr1)"
   ]
  },
  {
   "cell_type": "code",
   "execution_count": 36,
   "id": "4d58a843",
   "metadata": {},
   "outputs": [],
   "source": [
    "arr2 = copy.deepcopy(arr1.reshape(3))"
   ]
  },
  {
   "cell_type": "code",
   "execution_count": 37,
   "id": "785af692",
   "metadata": {},
   "outputs": [
    {
     "name": "stdout",
     "output_type": "stream",
     "text": [
      "[0. 4. 0.]\n"
     ]
    }
   ],
   "source": [
    "print(arr2)"
   ]
  },
  {
   "cell_type": "code",
   "execution_count": 38,
   "id": "1096b1fd",
   "metadata": {},
   "outputs": [],
   "source": [
    "arr2[1] = 5"
   ]
  },
  {
   "cell_type": "code",
   "execution_count": 39,
   "id": "0d37d77f",
   "metadata": {},
   "outputs": [
    {
     "name": "stdout",
     "output_type": "stream",
     "text": [
      "[0. 4. 0.]\n",
      "[0. 5. 0.]\n"
     ]
    }
   ],
   "source": [
    "print(arr1)\n",
    "print(arr2)"
   ]
  },
  {
   "cell_type": "code",
   "execution_count": 40,
   "id": "88dea037",
   "metadata": {},
   "outputs": [],
   "source": [
    "arr3 = np.zeros(1)"
   ]
  },
  {
   "cell_type": "code",
   "execution_count": 45,
   "id": "53bf49a2",
   "metadata": {},
   "outputs": [],
   "source": [
    "arr4 = np.broadcast_to(arr3, 3)"
   ]
  },
  {
   "cell_type": "code",
   "execution_count": 46,
   "id": "ce8c3641",
   "metadata": {},
   "outputs": [
    {
     "name": "stdout",
     "output_type": "stream",
     "text": [
      "[0. 0. 0.]\n"
     ]
    }
   ],
   "source": [
    "print(arr4)"
   ]
  },
  {
   "cell_type": "code",
   "execution_count": 47,
   "id": "77c85db1",
   "metadata": {},
   "outputs": [
    {
     "ename": "ValueError",
     "evalue": "assignment destination is read-only",
     "output_type": "error",
     "traceback": [
      "\u001b[1;31m---------------------------------------------------------------------------\u001b[0m",
      "\u001b[1;31mValueError\u001b[0m                                Traceback (most recent call last)",
      "Input \u001b[1;32mIn [47]\u001b[0m, in \u001b[0;36m<cell line: 1>\u001b[1;34m()\u001b[0m\n\u001b[1;32m----> 1\u001b[0m arr4[\u001b[38;5;241m1\u001b[39m] \u001b[38;5;241m=\u001b[39m \u001b[38;5;241m10\u001b[39m\n",
      "\u001b[1;31mValueError\u001b[0m: assignment destination is read-only"
     ]
    }
   ],
   "source": [
    "arr4[1] = 10"
   ]
  },
  {
   "cell_type": "code",
   "execution_count": 48,
   "id": "96691415",
   "metadata": {},
   "outputs": [],
   "source": [
    "arr5 = np.broadcast_to(arr1, 3)"
   ]
  },
  {
   "cell_type": "code",
   "execution_count": 51,
   "id": "31f600bd",
   "metadata": {},
   "outputs": [
    {
     "data": {
      "text/plain": [
       "array([0., 4., 0.])"
      ]
     },
     "execution_count": 51,
     "metadata": {},
     "output_type": "execute_result"
    }
   ],
   "source": [
    "arr5"
   ]
  },
  {
   "cell_type": "code",
   "execution_count": 68,
   "id": "35406da1",
   "metadata": {},
   "outputs": [
    {
     "data": {
      "text/plain": [
       "[<matplotlib.lines.Line2D at 0x21de5d0e3b0>]"
      ]
     },
     "execution_count": 68,
     "metadata": {},
     "output_type": "execute_result"
    },
    {
     "data": {
      "image/png": "[encoded data removed]",
      "text/plain": [
       "<Figure size 432x288 with 1 Axes>"
      ]
     },
     "metadata": {
      "needs_background": "light"
     },
     "output_type": "display_data"
    }
   ],
   "source": [
    "fig1, ax1 = plt.subplots()\n",
    "ax1.plot(peak1data[:, 0], peak1data[:, 1])"
   ]
  },
  {
   "cell_type": "code",
   "execution_count": null,
   "id": "1bb3d389",
   "metadata": {},
   "outputs": [],
   "source": []
  }
 ],
 "metadata": {
  "kernelspec": {
   "display_name": "Python 3 (ipykernel)",
   "language": "python",
   "name": "python3"
  },
  "language_info": {
   "codemirror_mode": {
    "name": "ipython",
    "version": 3
   },
   "file_extension": ".py",
   "mimetype": "text/x-python",
   "name": "python",
   "nbconvert_exporter": "python",
   "pygments_lexer": "ipython3",
   "version": "3.10.4"
  }
 },
 "nbformat": 4,
 "nbformat_minor": 5
}
